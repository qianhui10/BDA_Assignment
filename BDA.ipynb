{
  "nbformat": 4,
  "nbformat_minor": 0,
  "metadata": {
    "colab": {
      "name": "BDA_Assignment_Part_1b.ipynb",
      "provenance": [],
      "collapsed_sections": []
    },
    "kernelspec": {
      "name": "python3",
      "display_name": "Python 3"
    },
    "widgets": {
      "application/vnd.jupyter.widget-state+json": {
        "2d05bbb4a02140338a2ccff2dee6f2e6": {
          "model_module": "@jupyter-widgets/controls",
          "model_name": "IntSliderModel",
          "state": {
            "_view_name": "IntSliderView",
            "style": "IPY_MODEL_8865edc294aa4059bc104ab91435277d",
            "_dom_classes": [],
            "description": "Movie ID:",
            "step": 1,
            "_model_name": "IntSliderModel",
            "orientation": "horizontal",
            "max": 3293,
            "_view_module": "@jupyter-widgets/controls",
            "_model_module_version": "1.5.0",
            "value": 1891,
            "_view_count": null,
            "disabled": false,
            "_view_module_version": "1.5.0",
            "min": 0,
            "continuous_update": true,
            "readout_format": "d",
            "description_tooltip": null,
            "readout": true,
            "_model_module": "@jupyter-widgets/controls",
            "layout": "IPY_MODEL_cd8468ab575f4ffba7dcbd9bb0b047b3"
          }
        },
        "8865edc294aa4059bc104ab91435277d": {
          "model_module": "@jupyter-widgets/controls",
          "model_name": "SliderStyleModel",
          "state": {
            "_view_name": "StyleView",
            "handle_color": null,
            "_model_name": "SliderStyleModel",
            "description_width": "",
            "_view_module": "@jupyter-widgets/base",
            "_model_module_version": "1.5.0",
            "_view_count": null,
            "_view_module_version": "1.2.0",
            "_model_module": "@jupyter-widgets/controls"
          }
        },
        "cd8468ab575f4ffba7dcbd9bb0b047b3": {
          "model_module": "@jupyter-widgets/base",
          "model_name": "LayoutModel",
          "state": {
            "_view_name": "LayoutView",
            "grid_template_rows": null,
            "right": null,
            "justify_content": null,
            "_view_module": "@jupyter-widgets/base",
            "overflow": null,
            "_model_module_version": "1.2.0",
            "_view_count": null,
            "flex_flow": null,
            "width": null,
            "min_width": null,
            "border": null,
            "align_items": null,
            "bottom": null,
            "_model_module": "@jupyter-widgets/base",
            "top": null,
            "grid_column": null,
            "overflow_y": null,
            "overflow_x": null,
            "grid_auto_flow": null,
            "grid_area": null,
            "grid_template_columns": null,
            "flex": null,
            "_model_name": "LayoutModel",
            "justify_items": null,
            "grid_row": null,
            "max_height": null,
            "align_content": null,
            "visibility": null,
            "align_self": null,
            "height": null,
            "min_height": null,
            "padding": null,
            "grid_auto_rows": null,
            "grid_gap": null,
            "max_width": null,
            "order": null,
            "_view_module_version": "1.2.0",
            "grid_template_areas": null,
            "object_position": null,
            "object_fit": null,
            "grid_auto_columns": null,
            "margin": null,
            "display": null,
            "left": null
          }
        },
        "6dfe7fc1a30e49ccbb4ae59d78016123": {
          "model_module": "@jupyter-widgets/output",
          "model_name": "OutputModel",
          "state": {
            "_view_name": "OutputView",
            "msg_id": "",
            "_dom_classes": [],
            "_model_name": "OutputModel",
            "outputs": [
              {
                "output_type": "stream",
                "metadata": {
                  "tags": []
                },
                "text": "The selected movie is: Ugly, The (1997) \n\n",
                "stream": "stdout"
              }
            ],
            "_view_module": "@jupyter-widgets/output",
            "_model_module_version": "1.0.0",
            "_view_count": null,
            "_view_module_version": "1.0.0",
            "layout": "IPY_MODEL_33c015f3c36c4810ab39c7fa278bd49c",
            "_model_module": "@jupyter-widgets/output"
          }
        },
        "33c015f3c36c4810ab39c7fa278bd49c": {
          "model_module": "@jupyter-widgets/base",
          "model_name": "LayoutModel",
          "state": {
            "_view_name": "LayoutView",
            "grid_template_rows": null,
            "right": null,
            "justify_content": null,
            "_view_module": "@jupyter-widgets/base",
            "overflow": null,
            "_model_module_version": "1.2.0",
            "_view_count": null,
            "flex_flow": null,
            "width": null,
            "min_width": null,
            "border": null,
            "align_items": null,
            "bottom": null,
            "_model_module": "@jupyter-widgets/base",
            "top": null,
            "grid_column": null,
            "overflow_y": null,
            "overflow_x": null,
            "grid_auto_flow": null,
            "grid_area": null,
            "grid_template_columns": null,
            "flex": null,
            "_model_name": "LayoutModel",
            "justify_items": null,
            "grid_row": null,
            "max_height": null,
            "align_content": null,
            "visibility": null,
            "align_self": null,
            "height": null,
            "min_height": null,
            "padding": null,
            "grid_auto_rows": null,
            "grid_gap": null,
            "max_width": null,
            "order": null,
            "_view_module_version": "1.2.0",
            "grid_template_areas": null,
            "object_position": null,
            "object_fit": null,
            "grid_auto_columns": null,
            "margin": null,
            "display": null,
            "left": null
          }
        },
        "00fad5587f784483880c629040b7371f": {
          "model_module": "@jupyter-widgets/controls",
          "model_name": "DropdownModel",
          "state": {
            "_options_labels": [
              "1",
              "2",
              "3",
              "4",
              "5",
              "6",
              "7",
              "8",
              "9",
              "10"
            ],
            "_view_name": "DropdownView",
            "style": "IPY_MODEL_f396a939e7f544e98b84f45ef1846233",
            "_dom_classes": [],
            "description": "Top N Result",
            "_model_name": "DropdownModel",
            "index": 6,
            "_view_module": "@jupyter-widgets/controls",
            "_model_module_version": "1.5.0",
            "_view_count": null,
            "disabled": false,
            "_view_module_version": "1.5.0",
            "description_tooltip": null,
            "_model_module": "@jupyter-widgets/controls",
            "layout": "IPY_MODEL_13b2240a92c24616b5a329933922b50d"
          }
        },
        "f396a939e7f544e98b84f45ef1846233": {
          "model_module": "@jupyter-widgets/controls",
          "model_name": "DescriptionStyleModel",
          "state": {
            "_view_name": "StyleView",
            "_model_name": "DescriptionStyleModel",
            "description_width": "",
            "_view_module": "@jupyter-widgets/base",
            "_model_module_version": "1.5.0",
            "_view_count": null,
            "_view_module_version": "1.2.0",
            "_model_module": "@jupyter-widgets/controls"
          }
        },
        "13b2240a92c24616b5a329933922b50d": {
          "model_module": "@jupyter-widgets/base",
          "model_name": "LayoutModel",
          "state": {
            "_view_name": "LayoutView",
            "grid_template_rows": null,
            "right": null,
            "justify_content": null,
            "_view_module": "@jupyter-widgets/base",
            "overflow": null,
            "_model_module_version": "1.2.0",
            "_view_count": null,
            "flex_flow": null,
            "width": null,
            "min_width": null,
            "border": null,
            "align_items": null,
            "bottom": null,
            "_model_module": "@jupyter-widgets/base",
            "top": null,
            "grid_column": null,
            "overflow_y": null,
            "overflow_x": null,
            "grid_auto_flow": null,
            "grid_area": null,
            "grid_template_columns": null,
            "flex": null,
            "_model_name": "LayoutModel",
            "justify_items": null,
            "grid_row": null,
            "max_height": null,
            "align_content": null,
            "visibility": null,
            "align_self": null,
            "height": null,
            "min_height": null,
            "padding": null,
            "grid_auto_rows": null,
            "grid_gap": null,
            "max_width": null,
            "order": null,
            "_view_module_version": "1.2.0",
            "grid_template_areas": null,
            "object_position": null,
            "object_fit": null,
            "grid_auto_columns": null,
            "margin": null,
            "display": null,
            "left": null
          }
        },
        "cb9376e1c5d742eea0b19e4c5f5e9461": {
          "model_module": "@jupyter-widgets/output",
          "model_name": "OutputModel",
          "state": {
            "_view_name": "OutputView",
            "msg_id": "",
            "_dom_classes": [],
            "_model_name": "OutputModel",
            "outputs": [
              {
                "output_type": "stream",
                "metadata": {
                  "tags": []
                },
                "text": "Other films you might enjoy based on your previous selection: \n\n",
                "stream": "stdout"
              },
              {
                "output_type": "display_data",
                "metadata": {
                  "tags": []
                },
                "text/html": "<div>\n<style scoped>\n    .dataframe tbody tr th:only-of-type {\n        vertical-align: middle;\n    }\n\n    .dataframe tbody tr th {\n        vertical-align: top;\n    }\n\n    .dataframe thead th {\n        text-align: right;\n    }\n</style>\n<table border=\"1\" class=\"dataframe\">\n  <thead>\n    <tr style=\"text-align: right;\">\n      <th></th>\n      <th>title</th>\n      <th>genre</th>\n      <th>year</th>\n    </tr>\n  </thead>\n  <tbody>\n    <tr>\n      <th>0</th>\n      <td>Ugly, The (1997)</td>\n      <td>Horror|Thriller</td>\n      <td>1997</td>\n    </tr>\n    <tr>\n      <th>1</th>\n      <td>Head Above Water (1996)</td>\n      <td>Comedy|Thriller</td>\n      <td>1996</td>\n    </tr>\n    <tr>\n      <th>2</th>\n      <td>One Tough Cop (1998)</td>\n      <td>Action|Drama</td>\n      <td>1998</td>\n    </tr>\n    <tr>\n      <th>3</th>\n      <td>Foolish (1999)</td>\n      <td>Comedy</td>\n      <td>1999</td>\n    </tr>\n    <tr>\n      <th>4</th>\n      <td>No Looking Back (1998)</td>\n      <td>Comedy|Drama|Romance</td>\n      <td>1998</td>\n    </tr>\n    <tr>\n      <th>5</th>\n      <td>Whole Wide World, The (1996)</td>\n      <td>Drama</td>\n      <td>1996</td>\n    </tr>\n    <tr>\n      <th>6</th>\n      <td>Hello Mary Lou: Prom Night II (1987)</td>\n      <td>Horror</td>\n      <td>1987</td>\n    </tr>\n  </tbody>\n</table>\n</div>",
                "text/plain": "                                  title                 genre  year\n0                      Ugly, The (1997)       Horror|Thriller  1997\n1               Head Above Water (1996)       Comedy|Thriller  1996\n2                  One Tough Cop (1998)          Action|Drama  1998\n3                        Foolish (1999)                Comedy  1999\n4                No Looking Back (1998)  Comedy|Drama|Romance  1998\n5          Whole Wide World, The (1996)                 Drama  1996\n6  Hello Mary Lou: Prom Night II (1987)                Horror  1987"
              },
              {
                "output_type": "display_data",
                "metadata": {
                  "tags": []
                },
                "text/plain": "None"
              }
            ],
            "_view_module": "@jupyter-widgets/output",
            "_model_module_version": "1.0.0",
            "_view_count": null,
            "_view_module_version": "1.0.0",
            "layout": "IPY_MODEL_561494f6a28d4855a73dbab6c39f680d",
            "_model_module": "@jupyter-widgets/output"
          }
        },
        "561494f6a28d4855a73dbab6c39f680d": {
          "model_module": "@jupyter-widgets/base",
          "model_name": "LayoutModel",
          "state": {
            "_view_name": "LayoutView",
            "grid_template_rows": null,
            "right": null,
            "justify_content": null,
            "_view_module": "@jupyter-widgets/base",
            "overflow": null,
            "_model_module_version": "1.2.0",
            "_view_count": null,
            "flex_flow": null,
            "width": null,
            "min_width": null,
            "border": null,
            "align_items": null,
            "bottom": null,
            "_model_module": "@jupyter-widgets/base",
            "top": null,
            "grid_column": null,
            "overflow_y": null,
            "overflow_x": null,
            "grid_auto_flow": null,
            "grid_area": null,
            "grid_template_columns": null,
            "flex": null,
            "_model_name": "LayoutModel",
            "justify_items": null,
            "grid_row": null,
            "max_height": null,
            "align_content": null,
            "visibility": null,
            "align_self": null,
            "height": null,
            "min_height": null,
            "padding": null,
            "grid_auto_rows": null,
            "grid_gap": null,
            "max_width": null,
            "order": null,
            "_view_module_version": "1.2.0",
            "grid_template_areas": null,
            "object_position": null,
            "object_fit": null,
            "grid_auto_columns": null,
            "margin": null,
            "display": null,
            "left": null
          }
        }
      }
    }
  },
  "cells": [
    {
      "cell_type": "markdown",
      "metadata": {
        "id": "SAA9YTum0VVA"
      },
      "source": [
        "### Movie Recommender System\r\n",
        "This is an app that is built to recommend movie based on collaroborative filering using Singular Value Decomposition (SVD) method.\r\n",
        "\r\n",
        "### About the dataset \r\n",
        "The dataset describe movies' ratings from MovieLens for which a total of 3,426 movies rated by 6,040 users.\r\n",
        "\r\n",
        "Source: https://grouplens.org/datasets/movielens/1m/"
      ]
    },
    {
      "cell_type": "code",
      "metadata": {
        "id": "L7khwRklYbVD"
      },
      "source": [
        "#import and install related libraries\r\n",
        "#!pip -q install surprise\r\n",
        "import numpy as np\r\n",
        "np.seterr(divide='ignore',invalid='ignore')\r\n",
        "import pandas as pd\r\n",
        "import re\r\n",
        "from sklearn.metrics import mean_squared_error\r\n",
        "from sklearn.model_selection import train_test_split\r\n",
        "from surprise.model_selection import cross_validate\r\n",
        "from surprise import Reader, Dataset, KNNBasic\r\n",
        "from surprise import SVD\r\n",
        "import matplotlib.pyplot as plt\r\n",
        "import seaborn as sns\r\n",
        "\r\n",
        "#load the data\r\n",
        "data = pd.io.parsers.read_csv('ratings.dat',names = ['user_id','movie_id','rating','time'], engine = 'python', delimiter = '::')\r\n",
        "movie_data = pd.io.parsers.read_csv('movies.dat',names = ['movie_id','title','genre'],engine = 'python',delimiter = '::')\r\n",
        "sliced = np.loadtxt('sliced.csv',delimiter = ',')\r\n",
        "\r\n",
        "#combine the two dataset by using the unique movie id\r\n",
        "df_movies = movie_data.merge(data, on='movie_id')\r\n",
        "\r\n"
      ],
      "execution_count": 28,
      "outputs": []
    },
    {
      "cell_type": "code",
      "metadata": {
        "id": "G1uhJPup9iMj"
      },
      "source": [
        "#ratings_mat = np.ndarray (shape=(np.max(data.movie_id.values),np.max(data.user_id.values)),dtype=np.uint8)\r\n",
        "#ratings_mat[data.movie_id.values-1,data.user_id.values-1] = data.rating.values\r\n",
        "\r\n",
        "#normalised_mat = ratings_mat - np.asarray([(np.mean(ratings_mat, 1))]).T\r\n",
        "\r\n",
        "#A = normalised_mat.T / np.sqrt(ratings_mat.shape[0] - 1)\r\n",
        "#U, S, V = np.linalg.svd(A)\r\n",
        "#sliced = V.T[:, :k]\r\n"
      ],
      "execution_count": 21,
      "outputs": []
    },
    {
      "cell_type": "code",
      "metadata": {
        "id": "8m5dX4_v-BMt"
      },
      "source": [
        "#from numpy import savetxt\r\n",
        "#savetxt('sliced.csv', sliced, delimiter =\",\")"
      ],
      "execution_count": 27,
      "outputs": []
    },
    {
      "cell_type": "markdown",
      "metadata": {
        "id": "69B8i5y6Fc_q"
      },
      "source": [
        "## The Top 10 Rated Movie based on user input"
      ]
    },
    {
      "cell_type": "code",
      "metadata": {
        "colab": {
          "base_uri": "https://localhost:8080/",
          "height": 408
        },
        "id": "7i2D17fGblwz",
        "outputId": "85d0eb43-7253-4716-8c9f-c29c77fb3fc3"
      },
      "source": [
        "#check the movies with by using weighted rating to avoid biased rating\r\n",
        "\r\n",
        "#get the count of each movie\r\n",
        "df_rating = df_movies[['title']]\r\n",
        "df_rating = df_rating.apply(pd.value_counts)\r\n",
        "df_rating = df_rating.reset_index().rename(columns={'index': 'title','title': 'freq'})\r\n",
        "df_rating = pd.DataFrame.drop_duplicates(df_rating)\r\n",
        "\r\n",
        "#get the average rating of each movie\r\n",
        "df_rating_sum = df_movies[['title','rating']]\r\n",
        "df_rating_sum = df_rating_sum.groupby(['title']).sum()\r\n",
        "\r\n",
        "#merge the two dataframe\r\n",
        "df_average_rating = df_rating_sum.merge(df_rating, on='title')\r\n",
        "df_average_rating['average rating'] = df_average_rating['rating']/df_average_rating['freq']\r\n",
        "m = df_average_rating['freq'].quantile(0.6)\r\n",
        "C = df_average_rating['average rating'].mean()\r\n",
        "\r\n",
        "def weighted_vote_average(record):\r\n",
        "  v = record['freq']\r\n",
        "  R = record['average rating']\r\n",
        "\r\n",
        "  return ((v / (v+m)) * R) + ((m / (m+v)) * C)\r\n",
        "\r\n",
        "df_average_rating['weighted_rate'] = df_average_rating.apply(weighted_vote_average, axis=1)\r\n",
        "\r\n",
        "#check the top 10 rated movies\r\n",
        "movie_popularity=df_average_rating[['title','weighted_rate']]\r\n",
        "plot=movie_popularity.sort_values('weighted_rate',ascending=False).head(10)\r\n",
        "\r\n",
        "#visualize the top 10 most popular movies\r\n",
        "plt.figure(figsize=(8,6))\r\n",
        "sns.barplot(y='title',x='weighted_rate', data=plot, palette='viridis')\r\n",
        "plt.xlabel(\"Rating\", fontsize=12)\r\n",
        "plt.ylabel(\"Movies\", fontsize=12)\r\n",
        "plt.title(\"Top 10 Rated Movies\", fontsize=15)\r\n",
        "plt.show()"
      ],
      "execution_count": 29,
      "outputs": [
        {
          "output_type": "display_data",
          "data": {
            "image/png": "[encoded data removed]",
            "text/plain": [
              "<Figure size 576x432 with 1 Axes>"
            ]
          },
          "metadata": {
            "tags": [],
            "needs_background": "light"
          }
        }
      ]
    },
    {
      "cell_type": "code",
      "metadata": {
        "id": "mQPn4mbZblyV",
        "colab": {
          "base_uri": "https://localhost:8080/",
          "height": 393,
          "referenced_widgets": [
            "2d05bbb4a02140338a2ccff2dee6f2e6",
            "8865edc294aa4059bc104ab91435277d",
            "cd8468ab575f4ffba7dcbd9bb0b047b3",
            "6dfe7fc1a30e49ccbb4ae59d78016123",
            "33c015f3c36c4810ab39c7fa278bd49c",
            "00fad5587f784483880c629040b7371f",
            "f396a939e7f544e98b84f45ef1846233",
            "13b2240a92c24616b5a329933922b50d",
            "cb9376e1c5d742eea0b19e4c5f5e9461",
            "561494f6a28d4855a73dbab6c39f680d"
          ]
        },
        "outputId": "5df9973b-959f-45f1-f0da-2f3e490ac417"
      },
      "source": [
        "#Movie Recommendation\r\n",
        "\r\n",
        "import ipywidgets as widgets\r\n",
        "movieid = widgets.IntSlider(min=0, max=3293, step=1, description='Movie ID:', value=50)\r\n",
        "display(movieid)\r\n",
        "\r\n",
        "output_movieid = widgets.Output()\r\n",
        "\r\n",
        "def movieid_eventhandler(change):\r\n",
        "   output_movieid.clear_output()\r\n",
        "   with output_movieid:\r\n",
        "    if(int(change.new) == 50):\r\n",
        "     print(\"The selected movie is: {0} \\n\".format(movie_data[movie_data.movie_id == slider.value].title.values[0]))\r\n",
        "     updateFilmResult()\r\n",
        "    else:\r\n",
        "     print(\"The selected movie is: {0} \\n\".format(movie_data[movie_data.movie_id == int(change.new)].title.values[0]))\r\n",
        "     updateFilmResult()\r\n",
        "movieid.observe(movieid_eventhandler, names='value')\r\n",
        "\r\n",
        "display(output_movieid)\r\n",
        "\r\n",
        "def print_similar_movies(movie_data, movie_id, top_indexes):\r\n",
        "  print('Other films you might enjoy based on your previous selection: \\n')\r\n",
        "  df = pd.DataFrame(columns =['index','movie_id','title','genre'])\r\n",
        "  for id in top_indexes + 1:\r\n",
        "   df = df.append(pd.DataFrame(movie_data[movie_data.movie_id == id]), ignore_index = True)\r\n",
        "   df['year'] = df['title'].str.extract(r\"\\((\\d+)\\)\", expand=False)\r\n",
        "   df = df[['title','genre','year']]\r\n",
        "   pd.set_option('display.max_colwidth', 40) \r\n",
        "  display(df)\r\n",
        "\r\n",
        "def top_cosine_similarity(data, movie_id, top_n=10):\r\n",
        "     index = movie_id - 1 # Movie id starts from 1 in the dataset\r\n",
        "     movie_row = data[index, :]\r\n",
        "     magnitude = np.sqrt(np.einsum('ij, ij -> i', data, data))\r\n",
        "     similarity = np.dot(movie_row, data.T) / (magnitude[index] * magnitude)\r\n",
        "     sort_indexes = np.argsort(-similarity)\r\n",
        "     return sort_indexes[:top_n]\r\n",
        "\r\n",
        "top_n =widgets.Dropdown(options = ['1','2','3','4','5','6','7','8','9','10'], value = '5', step=1, description = 'Top N Result')\r\n",
        "display(top_n)\r\n",
        "output_top_n = widgets.Output()\r\n",
        "\r\n",
        "def top_n_eventhandler(change):\r\n",
        "  output_top_n.clear_output()\r\n",
        "  k = 50\r\n",
        "  #sliced = V.T[:, :k] # representative data\r\n",
        "  with output_top_n:\r\n",
        "   if(int(change.new) == 5):\r\n",
        "    indexes = top_cosine_similarity(sliced, movieid.value, 5)\r\n",
        "    display(print_similar_movies(movie_data, movieid.value, indexes))\r\n",
        "   else:\r\n",
        "    indexes = top_cosine_similarity(sliced, movieid.value, int(change.new))\r\n",
        "    display(print_similar_movies(movie_data, movieid.value, indexes))\r\n",
        "\r\n",
        "#create another function to update film result on movieid change \r\n",
        "def updateFilmResult():\r\n",
        "  output_top_n.clear_output()\r\n",
        "  k = 50\r\n",
        "  #sliced = V.T[:, :k] # representative data\r\n",
        "  with output_top_n:\r\n",
        "   if(int(top_n.value) == 5):\r\n",
        "    indexes = top_cosine_similarity(sliced, movieid.value, 5)\r\n",
        "    display(print_similar_movies(movie_data, movieid.value, indexes))\r\n",
        "   else:\r\n",
        "    indexes = top_cosine_similarity(sliced, movieid.value, int(top_n.value))\r\n",
        "    display(print_similar_movies(movie_data, movieid.value, indexes)) \r\n",
        "\r\n",
        "top_n.observe(top_n_eventhandler, names='value')\r\n",
        "display(output_top_n)\r\n",
        "\r\n",
        "\r\n"
      ],
      "execution_count": 30,
      "outputs": [
        {
          "output_type": "display_data",
          "data": {
            "application/vnd.jupyter.widget-view+json": {
              "model_id": "2d05bbb4a02140338a2ccff2dee6f2e6",
              "version_minor": 0,
              "version_major": 2
            },
            "text/plain": [
              "IntSlider(value=50, description='Movie ID:', max=3293)"
            ]
          },
          "metadata": {
            "tags": []
          }
        },
        {
          "output_type": "display_data",
          "data": {
            "application/vnd.jupyter.widget-view+json": {
              "model_id": "6dfe7fc1a30e49ccbb4ae59d78016123",
              "version_minor": 0,
              "version_major": 2
            },
            "text/plain": [
              "Output()"
            ]
          },
          "metadata": {
            "tags": []
          }
        },
        {
          "output_type": "display_data",
          "data": {
            "application/vnd.jupyter.widget-view+json": {
              "model_id": "00fad5587f784483880c629040b7371f",
              "version_minor": 0,
              "version_major": 2
            },
            "text/plain": [
              "Dropdown(description='Top N Result', index=4, options=('1', '2', '3', '4', '5', '6', '7', '8', '9', '10'), val…"
            ]
          },
          "metadata": {
            "tags": []
          }
        },
        {
          "output_type": "display_data",
          "data": {
            "application/vnd.jupyter.widget-view+json": {
              "model_id": "cb9376e1c5d742eea0b19e4c5f5e9461",
              "version_minor": 0,
              "version_major": 2
            },
            "text/plain": [
              "Output()"
            ]
          },
          "metadata": {
            "tags": []
          }
        }
      ]
    }
  ]
}
