{
 "cells": [
  {
   "cell_type": "markdown",
   "metadata": {
    "id": "SAA9YTum0VVA"
   },
   "source": [
    "### Movie Recommender System\n",
    "This is an app that is built to recommend movie based on collaroborative filering using Singular Value Decomposition (SVD) method.\n",
    "\n",
    "### About the dataset \n",
    "The dataset describe movies' ratings from MovieLens for which a total of 3,426 movies rated by 6,040 users.\n",
    "\n",
    "Source: https://grouplens.org/datasets/movielens/1m/"
   ]
  },
  {
   "cell_type": "code",
   "execution_count": null,
   "metadata": {
    "id": "L7khwRklYbVD"
   },
   "outputs": [],
   "source": [
    "#import and install related libraries\n",
    "#!pip -q install surprise\n",
    "import numpy as np\n",
    "np.seterr(divide='ignore',invalid='ignore')\n",
    "import pandas as pd\n",
    "import re\n",
    "from sklearn.metrics import mean_squared_error\n",
    "from sklearn.model_selection import train_test_split\n",
    "from surprise.model_selection import cross_validate\n",
    "from surprise import Reader, Dataset, KNNBasic\n",
    "from surprise import SVD\n",
    "import matplotlib.pyplot as plt\n",
    "import seaborn as sns\n",
    "\n",
    "#load the data\n",
    "data = pd.io.parsers.read_csv('Downloads/BDA_app/ratings.dat',names = ['user_id','movie_id','rating','time'], engine = 'python', delimiter = '::')\n",
    "movie_data = pd.io.parsers.read_csv('Downloads/BDA_app/movies.dat',names = ['movie_id','title','genre'],engine = 'python',delimiter = '::')\n",
    "\n",
    "#combine the two dataset by using the unique movie id\n",
    "df_movies = movie_data.merge(data, on='movie_id')\n",
    "\n"
   ]
  },
  {
   "cell_type": "markdown",
   "metadata": {
    "id": "69B8i5y6Fc_q"
   },
   "source": [
    "## The Top 10 Rated Movie based on user input"
   ]
  },
  {
   "cell_type": "code",
   "execution_count": null,
   "metadata": {
    "colab": {
     "base_uri": "https://localhost:8080/",
     "height": 408
    },
    "id": "7i2D17fGblwz",
    "outputId": "7b248054-e125-4528-eb3e-a333f55fd52c"
   },
   "outputs": [
    {
     "data": {
      "image/png": "[encoded data removed]",
      "text/plain": [
       "<Figure size 576x432 with 1 Axes>"
      ]
     },
     "metadata": {
      "needs_background": "light",
      "tags": []
     },
     "output_type": "display_data"
    }
   ],
   "source": [
    "#check the movies with by using weighted rating to avoid biased rating\n",
    "\n",
    "#get the count of each movie\n",
    "df_rating = df_movies[['title']]\n",
    "df_rating = df_rating.apply(pd.value_counts)\n",
    "df_rating = df_rating.reset_index().rename(columns={'index': 'title','title': 'freq'})\n",
    "df_rating = pd.DataFrame.drop_duplicates(df_rating)\n",
    "\n",
    "#get the average rating of each movie\n",
    "df_rating_sum = df_movies[['title','rating']]\n",
    "df_rating_sum = df_rating_sum.groupby(['title']).sum()\n",
    "\n",
    "#merge the two dataframe\n",
    "df_average_rating = df_rating_sum.merge(df_rating, on='title')\n",
    "df_average_rating['average rating'] = df_average_rating['rating']/df_average_rating['freq']\n",
    "m = df_average_rating['freq'].quantile(0.6)\n",
    "C = df_average_rating['average rating'].mean()\n",
    "\n",
    "def weighted_vote_average(record):\n",
    "  v = record['freq']\n",
    "  R = record['average rating']\n",
    "\n",
    "  return ((v / (v+m)) * R) + ((m / (m+v)) * C)\n",
    "\n",
    "df_average_rating['weighted_rate'] = df_average_rating.apply(weighted_vote_average, axis=1)\n",
    "\n",
    "#check the top 10 rated movies\n",
    "movie_popularity=df_average_rating[['title','weighted_rate']]\n",
    "plot=movie_popularity.sort_values('weighted_rate',ascending=False).head(10)\n",
    "\n",
    "#visualize the top 10 most popular movies\n",
    "plt.figure(figsize=(8,6))\n",
    "sns.barplot(y='title',x='weighted_rate', data=plot, palette='viridis')\n",
    "plt.xlabel(\"Rating\", fontsize=12)\n",
    "plt.ylabel(\"Movies\", fontsize=12)\n",
    "plt.title(\"Top 10 Rated Movies\", fontsize=15)\n",
    "plt.show()"
   ]
  },
  {
   "cell_type": "code",
   "execution_count": null,
   "metadata": {
    "colab": {
     "base_uri": "https://localhost:8080/",
     "height": 498,
     "referenced_widgets": [
      "db8d071e24564c91a700b64efa5258d4",
      "fe295100055f410e9de259e9451c472d",
      "c099a8d7e58d427b9e7f95949411527f",
      "f8c7c134348f4a75b706ac8881634ff0",
      "ff0dae2106724788b89c6161d8cf36b4",
      "444a740b079a408e818e7b60bf81fa8a",
      "61b2832d2e684875b6c4d2ec4e3da1ad",
      "bce56478d0a24072bdc652ace4165853",
      "d683e4afbfc74c71ae969b09971f87c8",
      "1c58d6f418df409d834f987851f3c3d9"
     ]
    },
    "id": "mQPn4mbZblyV",
    "outputId": "fe387473-32e3-4ffa-bf20-bb1baffcdd14"
   },
   "outputs": [
    {
     "data": {
      "application/vnd.jupyter.widget-view+json": {
       "model_id": "db8d071e24564c91a700b64efa5258d4",
       "version_major": 2,
       "version_minor": 0
      },
      "text/plain": [
       "IntSlider(value=50, description='Movie ID:', max=3293)"
      ]
     },
     "metadata": {
      "tags": []
     },
     "output_type": "display_data"
    },
    {
     "data": {
      "application/vnd.jupyter.widget-view+json": {
       "model_id": "f8c7c134348f4a75b706ac8881634ff0",
       "version_major": 2,
       "version_minor": 0
      },
      "text/plain": [
       "Output()"
      ]
     },
     "metadata": {
      "tags": []
     },
     "output_type": "display_data"
    },
    {
     "data": {
      "application/vnd.jupyter.widget-view+json": {
       "model_id": "444a740b079a408e818e7b60bf81fa8a",
       "version_major": 2,
       "version_minor": 0
      },
      "text/plain": [
       "Dropdown(description='Top N Result', index=4, options=('1', '2', '3', '4', '5', '6', '7', '8', '9', '10'), val…"
      ]
     },
     "metadata": {
      "tags": []
     },
     "output_type": "display_data"
    },
    {
     "data": {
      "application/vnd.jupyter.widget-view+json": {
       "model_id": "d683e4afbfc74c71ae969b09971f87c8",
       "version_major": 2,
       "version_minor": 0
      },
      "text/plain": [
       "Output()"
      ]
     },
     "metadata": {
      "tags": []
     },
     "output_type": "display_data"
    }
   ],
   "source": [
    "#Movie Recommendation\n",
    "\n",
    "ratings_mat = np.ndarray (shape=(np.max(data.movie_id.values),np.max(data.user_id.values)),dtype=np.uint8)\n",
    "ratings_mat[data.movie_id.values-1,data.user_id.values-1] = data.rating.values\n",
    "\n",
    "normalised_mat = ratings_mat - np.asarray([(np.mean(ratings_mat, 1))]).T\n",
    "\n",
    "A = normalised_mat.T / np.sqrt(ratings_mat.shape[0] - 1)\n",
    "U, S, V = np.linalg.svd(A)\n",
    "\n",
    "import ipywidgets as widgets\n",
    "movieid = widgets.IntSlider(min=0, max=3293, step=1, description='Movie ID:', value=50)\n",
    "display(movieid)\n",
    "\n",
    "output_movieid = widgets.Output()\n",
    "\n",
    "def movieid_eventhandler(change):\n",
    "   output_movieid.clear_output()\n",
    "   with output_movieid:\n",
    "    if(int(change.new) == 50):\n",
    "     print(\"The selected movie is: {0} \\n\".format(movie_data[movie_data.movie_id == slider.value].title.values[0]))\n",
    "     updateFilmResult()\n",
    "    else:\n",
    "     print(\"The selected movie is: {0} \\n\".format(movie_data[movie_data.movie_id == int(change.new)].title.values[0]))\n",
    "     updateFilmResult()\n",
    "movieid.observe(movieid_eventhandler, names='value')\n",
    "\n",
    "display(output_movieid)\n",
    "\n",
    "def print_similar_movies(movie_data, movie_id, top_indexes):\n",
    "  print('Other films you might enjoy based on your previous selection: \\n')\n",
    "  df = pd.DataFrame(columns =['index','movie_id','title','genre'])\n",
    "  for id in top_indexes + 1:\n",
    "   df = df.append(pd.DataFrame(movie_data[movie_data.movie_id == id]), ignore_index = True)\n",
    "   df['year'] = df['title'].str.extract(r\"\\((\\d+)\\)\", expand=False)\n",
    "   df = df[['title','genre','year']]\n",
    "   pd.set_option('display.max_colwidth', 40) \n",
    "  display(df)\n",
    "\n",
    "def top_cosine_similarity(data, movie_id, top_n=10):\n",
    "     index = movie_id - 1 # Movie id starts from 1 in the dataset\n",
    "     movie_row = data[index, :]\n",
    "     magnitude = np.sqrt(np.einsum('ij, ij -> i', data, data))\n",
    "     similarity = np.dot(movie_row, data.T) / (magnitude[index] * magnitude)\n",
    "     sort_indexes = np.argsort(-similarity)\n",
    "     return sort_indexes[:top_n]\n",
    "\n",
    "top_n =widgets.Dropdown(options = ['1','2','3','4','5','6','7','8','9','10'], value = '5', step=1, description = 'Top N Result')\n",
    "display(top_n)\n",
    "output_top_n = widgets.Output()\n",
    "\n",
    "def top_n_eventhandler(change):\n",
    "  output_top_n.clear_output()\n",
    "  k = 50\n",
    "  sliced = V.T[:, :k] # representative data\n",
    "  with output_top_n:\n",
    "   if(int(change.new) == 5):\n",
    "    indexes = top_cosine_similarity(sliced, movieid.value, 5)\n",
    "    display(print_similar_movies(movie_data, movieid.value, indexes))\n",
    "   else:\n",
    "    indexes = top_cosine_similarity(sliced, movieid.value, int(change.new))\n",
    "    display(print_similar_movies(movie_data, movieid.value, indexes))\n",
    "\n",
    "#create another function to update film result on movieid change \n",
    "def updateFilmResult():\n",
    "  output_top_n.clear_output()\n",
    "  k = 50\n",
    "  sliced = V.T[:, :k] # representative data\n",
    "  with output_top_n:\n",
    "   if(int(top_n.value) == 5):\n",
    "    indexes = top_cosine_similarity(sliced, movieid.value, 5)\n",
    "    display(print_similar_movies(movie_data, movieid.value, indexes))\n",
    "   else:\n",
    "    indexes = top_cosine_similarity(sliced, movieid.value, int(top_n.value))\n",
    "    display(print_similar_movies(movie_data, movieid.value, indexes)) \n",
    "\n",
    "top_n.observe(top_n_eventhandler, names='value')\n",
    "display(output_top_n)\n",
    "\n",
    "\n"
   ]
  }
 ],
 "metadata": {
  "colab": {
   "collapsed_sections": [],
   "name": "BDA Assignment Part 1b.ipynb",
   "provenance": [],
   "toc_visible": true
  },
  "kernelspec": {
   "display_name": "Python 3",
   "language": "python",
   "name": "python3"
  },
  "language_info": {
   "codemirror_mode": {
    "name": "ipython",
    "version": 3
   },
   "file_extension": ".py",
   "mimetype": "text/x-python",
   "name": "python",
   "nbconvert_exporter": "python",
   "pygments_lexer": "ipython3",
   "version": "3.7.0"
  },
  "widgets": {
   "application/vnd.jupyter.widget-state+json": {
    "1c58d6f418df409d834f987851f3c3d9": {
     "model_module": "@jupyter-widgets/base",
     "model_name": "LayoutModel",
     "state": {
      "_model_module": "@jupyter-widgets/base",
      "_model_module_version": "1.2.0",
      "_model_name": "LayoutModel",
      "_view_count": null,
      "_view_module": "@jupyter-widgets/base",
      "_view_module_version": "1.2.0",
      "_view_name": "LayoutView",
      "align_content": null,
      "align_items": null,
      "align_self": null,
      "border": null,
      "bottom": null,
      "display": null,
      "flex": null,
      "flex_flow": null,
      "grid_area": null,
      "grid_auto_columns": null,
      "grid_auto_flow": null,
      "grid_auto_rows": null,
      "grid_column": null,
      "grid_gap": null,
      "grid_row": null,
      "grid_template_areas": null,
      "grid_template_columns": null,
      "grid_template_rows": null,
      "height": null,
      "justify_content": null,
      "justify_items": null,
      "left": null,
      "margin": null,
      "max_height": null,
      "max_width": null,
      "min_height": null,
      "min_width": null,
      "object_fit": null,
      "object_position": null,
      "order": null,
      "overflow": null,
      "overflow_x": null,
      "overflow_y": null,
      "padding": null,
      "right": null,
      "top": null,
      "visibility": null,
      "width": null
     }
    },
    "444a740b079a408e818e7b60bf81fa8a": {
     "model_module": "@jupyter-widgets/controls",
     "model_name": "DropdownModel",
     "state": {
      "_dom_classes": [],
      "_model_module": "@jupyter-widgets/controls",
      "_model_module_version": "1.5.0",
      "_model_name": "DropdownModel",
      "_options_labels": [
       "1",
       "2",
       "3",
       "4",
       "5",
       "6",
       "7",
       "8",
       "9",
       "10"
      ],
      "_view_count": null,
      "_view_module": "@jupyter-widgets/controls",
      "_view_module_version": "1.5.0",
      "_view_name": "DropdownView",
      "description": "Top N Result",
      "description_tooltip": null,
      "disabled": false,
      "index": 4,
      "layout": "IPY_MODEL_bce56478d0a24072bdc652ace4165853",
      "style": "IPY_MODEL_61b2832d2e684875b6c4d2ec4e3da1ad"
     }
    },
    "61b2832d2e684875b6c4d2ec4e3da1ad": {
     "model_module": "@jupyter-widgets/controls",
     "model_name": "DescriptionStyleModel",
     "state": {
      "_model_module": "@jupyter-widgets/controls",
      "_model_module_version": "1.5.0",
      "_model_name": "DescriptionStyleModel",
      "_view_count": null,
      "_view_module": "@jupyter-widgets/base",
      "_view_module_version": "1.2.0",
      "_view_name": "StyleView",
      "description_width": ""
     }
    },
    "bce56478d0a24072bdc652ace4165853": {
     "model_module": "@jupyter-widgets/base",
     "model_name": "LayoutModel",
     "state": {
      "_model_module": "@jupyter-widgets/base",
      "_model_module_version": "1.2.0",
      "_model_name": "LayoutModel",
      "_view_count": null,
      "_view_module": "@jupyter-widgets/base",
      "_view_module_version": "1.2.0",
      "_view_name": "LayoutView",
      "align_content": null,
      "align_items": null,
      "align_self": null,
      "border": null,
      "bottom": null,
      "display": null,
      "flex": null,
      "flex_flow": null,
      "grid_area": null,
      "grid_auto_columns": null,
      "grid_auto_flow": null,
      "grid_auto_rows": null,
      "grid_column": null,
      "grid_gap": null,
      "grid_row": null,
      "grid_template_areas": null,
      "grid_template_columns": null,
      "grid_template_rows": null,
      "height": null,
      "justify_content": null,
      "justify_items": null,
      "left": null,
      "margin": null,
      "max_height": null,
      "max_width": null,
      "min_height": null,
      "min_width": null,
      "object_fit": null,
      "object_position": null,
      "order": null,
      "overflow": null,
      "overflow_x": null,
      "overflow_y": null,
      "padding": null,
      "right": null,
      "top": null,
      "visibility": null,
      "width": null
     }
    },
    "c099a8d7e58d427b9e7f95949411527f": {
     "model_module": "@jupyter-widgets/base",
     "model_name": "LayoutModel",
     "state": {
      "_model_module": "@jupyter-widgets/base",
      "_model_module_version": "1.2.0",
      "_model_name": "LayoutModel",
      "_view_count": null,
      "_view_module": "@jupyter-widgets/base",
      "_view_module_version": "1.2.0",
      "_view_name": "LayoutView",
      "align_content": null,
      "align_items": null,
      "align_self": null,
      "border": null,
      "bottom": null,
      "display": null,
      "flex": null,
      "flex_flow": null,
      "grid_area": null,
      "grid_auto_columns": null,
      "grid_auto_flow": null,
      "grid_auto_rows": null,
      "grid_column": null,
      "grid_gap": null,
      "grid_row": null,
      "grid_template_areas": null,
      "grid_template_columns": null,
      "grid_template_rows": null,
      "height": null,
      "justify_content": null,
      "justify_items": null,
      "left": null,
      "margin": null,
      "max_height": null,
      "max_width": null,
      "min_height": null,
      "min_width": null,
      "object_fit": null,
      "object_position": null,
      "order": null,
      "overflow": null,
      "overflow_x": null,
      "overflow_y": null,
      "padding": null,
      "right": null,
      "top": null,
      "visibility": null,
      "width": null
     }
    },
    "d683e4afbfc74c71ae969b09971f87c8": {
     "model_module": "@jupyter-widgets/output",
     "model_name": "OutputModel",
     "state": {
      "_dom_classes": [],
      "_model_module": "@jupyter-widgets/output",
      "_model_module_version": "1.0.0",
      "_model_name": "OutputModel",
      "_view_count": null,
      "_view_module": "@jupyter-widgets/output",
      "_view_module_version": "1.0.0",
      "_view_name": "OutputView",
      "layout": "IPY_MODEL_1c58d6f418df409d834f987851f3c3d9",
      "msg_id": "",
      "outputs": [
       {
        "metadata": {
         "tags": []
        },
        "output_type": "stream",
        "stream": "stdout",
        "text": "Other films you might enjoy based on your previous selection: \n\n"
       },
       {
        "ename": "NameError",
        "evalue": "ignored",
        "metadata": {
         "tags": []
        },
        "output_type": "pyerr",
        "traceback": [
         "\u001b[0;31m---------------------------------------------------------------------------\u001b[0m",
         "\u001b[0;31mNameError\u001b[0m                                 Traceback (most recent call last)",
         "\u001b[0;32m<ipython-input-12-9c8ded72db48>\u001b[0m in \u001b[0;36mupdateFilmResult\u001b[0;34m()\u001b[0m\n\u001b[1;32m     70\u001b[0m    \u001b[0;32mif\u001b[0m\u001b[0;34m(\u001b[0m\u001b[0mint\u001b[0m\u001b[0;34m(\u001b[0m\u001b[0mtop_n\u001b[0m\u001b[0;34m.\u001b[0m\u001b[0mvalue\u001b[0m\u001b[0;34m)\u001b[0m \u001b[0;34m==\u001b[0m \u001b[0;36m5\u001b[0m\u001b[0;34m)\u001b[0m\u001b[0;34m:\u001b[0m\u001b[0;34m\u001b[0m\u001b[0;34m\u001b[0m\u001b[0m\n\u001b[1;32m     71\u001b[0m     \u001b[0mindexes\u001b[0m \u001b[0;34m=\u001b[0m \u001b[0mtop_cosine_similarity\u001b[0m\u001b[0;34m(\u001b[0m\u001b[0msliced\u001b[0m\u001b[0;34m,\u001b[0m \u001b[0mmovieid\u001b[0m\u001b[0;34m.\u001b[0m\u001b[0mvalue\u001b[0m\u001b[0;34m,\u001b[0m \u001b[0;36m5\u001b[0m\u001b[0;34m)\u001b[0m\u001b[0;34m\u001b[0m\u001b[0;34m\u001b[0m\u001b[0m\n\u001b[0;32m---> 72\u001b[0;31m     \u001b[0mdisplay\u001b[0m\u001b[0;34m(\u001b[0m\u001b[0mprint_similar_movies\u001b[0m\u001b[0;34m(\u001b[0m\u001b[0mmovie_data\u001b[0m\u001b[0;34m,\u001b[0m \u001b[0mmovieid\u001b[0m\u001b[0;34m.\u001b[0m\u001b[0mvalue\u001b[0m\u001b[0;34m,\u001b[0m \u001b[0mindexes\u001b[0m\u001b[0;34m)\u001b[0m\u001b[0;34m)\u001b[0m\u001b[0;34m\u001b[0m\u001b[0;34m\u001b[0m\u001b[0m\n\u001b[0m\u001b[1;32m     73\u001b[0m    \u001b[0;32melse\u001b[0m\u001b[0;34m:\u001b[0m\u001b[0;34m\u001b[0m\u001b[0;34m\u001b[0m\u001b[0m\n\u001b[1;32m     74\u001b[0m     \u001b[0mindexes\u001b[0m \u001b[0;34m=\u001b[0m \u001b[0mtop_cosine_similarity\u001b[0m\u001b[0;34m(\u001b[0m\u001b[0msliced\u001b[0m\u001b[0;34m,\u001b[0m \u001b[0mmovieid\u001b[0m\u001b[0;34m.\u001b[0m\u001b[0mvalue\u001b[0m\u001b[0;34m,\u001b[0m \u001b[0mint\u001b[0m\u001b[0;34m(\u001b[0m\u001b[0mtop_n\u001b[0m\u001b[0;34m.\u001b[0m\u001b[0mvalue\u001b[0m\u001b[0;34m)\u001b[0m\u001b[0;34m)\u001b[0m\u001b[0;34m\u001b[0m\u001b[0;34m\u001b[0m\u001b[0m\n",
         "\u001b[0;32m<ipython-input-12-9c8ded72db48>\u001b[0m in \u001b[0;36mprint_similar_movies\u001b[0;34m(movie_data, movie_id, top_indexes)\u001b[0m\n\u001b[1;32m     35\u001b[0m    \u001b[0mdf\u001b[0m\u001b[0;34m[\u001b[0m\u001b[0;34m'year'\u001b[0m\u001b[0;34m]\u001b[0m \u001b[0;34m=\u001b[0m \u001b[0mdf\u001b[0m\u001b[0;34m[\u001b[0m\u001b[0;34m'title'\u001b[0m\u001b[0;34m]\u001b[0m\u001b[0;34m.\u001b[0m\u001b[0mstr\u001b[0m\u001b[0;34m.\u001b[0m\u001b[0mextract\u001b[0m\u001b[0;34m(\u001b[0m\u001b[0;34mr\"\\((\\d+)\\)\"\u001b[0m\u001b[0;34m,\u001b[0m \u001b[0mexpand\u001b[0m\u001b[0;34m=\u001b[0m\u001b[0;32mFalse\u001b[0m\u001b[0;34m)\u001b[0m\u001b[0;34m\u001b[0m\u001b[0;34m\u001b[0m\u001b[0m\n\u001b[1;32m     36\u001b[0m    \u001b[0mdf\u001b[0m \u001b[0;34m=\u001b[0m \u001b[0mdf\u001b[0m\u001b[0;34m[\u001b[0m\u001b[0;34m[\u001b[0m\u001b[0;34m'title'\u001b[0m\u001b[0;34m,\u001b[0m\u001b[0;34m'genre'\u001b[0m\u001b[0;34m,\u001b[0m\u001b[0;34m'year'\u001b[0m\u001b[0;34m]\u001b[0m\u001b[0;34m]\u001b[0m\u001b[0;34m\u001b[0m\u001b[0;34m\u001b[0m\u001b[0m\n\u001b[0;32m---> 37\u001b[0;31m    \u001b[0mpandas\u001b[0m\u001b[0;34m.\u001b[0m\u001b[0mset_option\u001b[0m\u001b[0;34m(\u001b[0m\u001b[0;34m'display.max_colwidth'\u001b[0m\u001b[0;34m,\u001b[0m \u001b[0;36m40\u001b[0m\u001b[0;34m)\u001b[0m\u001b[0;34m\u001b[0m\u001b[0;34m\u001b[0m\u001b[0m\n\u001b[0m\u001b[1;32m     38\u001b[0m   \u001b[0mdisplay\u001b[0m\u001b[0;34m(\u001b[0m\u001b[0mdf\u001b[0m\u001b[0;34m)\u001b[0m\u001b[0;34m\u001b[0m\u001b[0;34m\u001b[0m\u001b[0m\n\u001b[1;32m     39\u001b[0m \u001b[0;34m\u001b[0m\u001b[0m\n",
         "\u001b[0;31mNameError\u001b[0m: name 'pandas' is not defined"
        ]
       }
      ]
     }
    },
    "db8d071e24564c91a700b64efa5258d4": {
     "model_module": "@jupyter-widgets/controls",
     "model_name": "IntSliderModel",
     "state": {
      "_dom_classes": [],
      "_model_module": "@jupyter-widgets/controls",
      "_model_module_version": "1.5.0",
      "_model_name": "IntSliderModel",
      "_view_count": null,
      "_view_module": "@jupyter-widgets/controls",
      "_view_module_version": "1.5.0",
      "_view_name": "IntSliderView",
      "continuous_update": true,
      "description": "Movie ID:",
      "description_tooltip": null,
      "disabled": false,
      "layout": "IPY_MODEL_c099a8d7e58d427b9e7f95949411527f",
      "max": 3293,
      "min": 0,
      "orientation": "horizontal",
      "readout": true,
      "readout_format": "d",
      "step": 1,
      "style": "IPY_MODEL_fe295100055f410e9de259e9451c472d",
      "value": 1116
     }
    },
    "f8c7c134348f4a75b706ac8881634ff0": {
     "model_module": "@jupyter-widgets/output",
     "model_name": "OutputModel",
     "state": {
      "_dom_classes": [],
      "_model_module": "@jupyter-widgets/output",
      "_model_module_version": "1.0.0",
      "_model_name": "OutputModel",
      "_view_count": null,
      "_view_module": "@jupyter-widgets/output",
      "_view_module_version": "1.0.0",
      "_view_name": "OutputView",
      "layout": "IPY_MODEL_ff0dae2106724788b89c6161d8cf36b4",
      "msg_id": "",
      "outputs": [
       {
        "metadata": {
         "tags": []
        },
        "output_type": "stream",
        "stream": "stdout",
        "text": "The selected movie is: Single Girl, A (La Fille Seule) (1995) \n\n"
       }
      ]
     }
    },
    "fe295100055f410e9de259e9451c472d": {
     "model_module": "@jupyter-widgets/controls",
     "model_name": "SliderStyleModel",
     "state": {
      "_model_module": "@jupyter-widgets/controls",
      "_model_module_version": "1.5.0",
      "_model_name": "SliderStyleModel",
      "_view_count": null,
      "_view_module": "@jupyter-widgets/base",
      "_view_module_version": "1.2.0",
      "_view_name": "StyleView",
      "description_width": "",
      "handle_color": null
     }
    },
    "ff0dae2106724788b89c6161d8cf36b4": {
     "model_module": "@jupyter-widgets/base",
     "model_name": "LayoutModel",
     "state": {
      "_model_module": "@jupyter-widgets/base",
      "_model_module_version": "1.2.0",
      "_model_name": "LayoutModel",
      "_view_count": null,
      "_view_module": "@jupyter-widgets/base",
      "_view_module_version": "1.2.0",
      "_view_name": "LayoutView",
      "align_content": null,
      "align_items": null,
      "align_self": null,
      "border": null,
      "bottom": null,
      "display": null,
      "flex": null,
      "flex_flow": null,
      "grid_area": null,
      "grid_auto_columns": null,
      "grid_auto_flow": null,
      "grid_auto_rows": null,
      "grid_column": null,
      "grid_gap": null,
      "grid_row": null,
      "grid_template_areas": null,
      "grid_template_columns": null,
      "grid_template_rows": null,
      "height": null,
      "justify_content": null,
      "justify_items": null,
      "left": null,
      "margin": null,
      "max_height": null,
      "max_width": null,
      "min_height": null,
      "min_width": null,
      "object_fit": null,
      "object_position": null,
      "order": null,
      "overflow": null,
      "overflow_x": null,
      "overflow_y": null,
      "padding": null,
      "right": null,
      "top": null,
      "visibility": null,
      "width": null
     }
    }
   }
  }
 },
 "nbformat": 4,
 "nbformat_minor": 1
}
